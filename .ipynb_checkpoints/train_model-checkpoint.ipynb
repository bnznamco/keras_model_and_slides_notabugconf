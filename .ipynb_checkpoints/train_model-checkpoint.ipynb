{
 "cells": [
  {
   "cell_type": "markdown",
   "metadata": {},
   "source": [
    "# Not A Bug Conf - Image recognition with keras and tensorflow\n"
   ]
  },
  {
   "cell_type": "markdown",
   "metadata": {},
   "source": [
    "First of all import all you need to run code."
   ]
  },
  {
   "cell_type": "code",
   "execution_count": 1,
   "metadata": {},
   "outputs": [
    {
     "name": "stderr",
     "output_type": "stream",
     "text": [
      "Using TensorFlow backend.\n"
     ]
    }
   ],
   "source": [
    "from keras.preprocessing.image import ImageDataGenerator\n",
    "from keras.models import Sequential\n",
    "from keras.layers import Conv2D, MaxPooling2D\n",
    "from keras.layers import Flatten, Dense\n",
    "from keras import backend as K\n",
    "import os\n",
    "import numpy as np\n",
    "import matplotlib.pyplot as plt"
   ]
  },
  {
   "cell_type": "markdown",
   "metadata": {},
   "source": [
    "## Set some variables that will be used to set up and train out model.\n",
    "\n",
    "1. __train_data_dir__ ------------> the directory containing the dataset we whant to use for train the model\n",
    "2. __validation_data_dir__ -------> the directory containing the dataset we whant to use for evaluating the model\n",
    "3. __img_width, img_height__ -----> the dimension in pixel of the images we want to feed in the model\n",
    "4. __nb_train_samples__ ----------> number of samples we want to use in training\n",
    "5. __nb_validation_samples__ -----> number of samples we want to use for evaluating the model\n",
    "6. __epochs__ --------------------> number of epochs for the training\n",
    "7. __batch_size__ ----------------> number of samples we want to batch for single train step (weights adjustment)"
   ]
  },
  {
   "cell_type": "code",
   "execution_count": 2,
   "metadata": {},
   "outputs": [],
   "source": [
    "train_data_dir = os.path.join('simpsons_dataset', 'simpsons_trainset')\n",
    "validation_data_dir = os.path.join('simpsons_dataset', 'simpson_testset')\n",
    "\n",
    "img_width, img_height = 64, 64\n",
    "nb_train_samples = 30000\n",
    "nb_validation_samples = 990\n",
    "epochs = 10\n",
    "batch_size = 32"
   ]
  },
  {
   "cell_type": "markdown",
   "metadata": {},
   "source": [
    "## Define the model\n",
    "\n",
    "First we set the input shape depending on or backend __image_data_format__.\n",
    "\n",
    "Initialize model with __Sequential()__ allows you to easily stack sequential layers of the network in order from input to output.\n",
    "\n"
   ]
  },
  {
   "cell_type": "code",
   "execution_count": 3,
   "metadata": {},
   "outputs": [],
   "source": [
    "if K.image_data_format() == 'channels_first':\n",
    "    input_shape = (3, img_width, img_height)\n",
    "else:\n",
    "    input_shape = (img_width, img_height, 3)\n",
    "\n",
    "model = Sequential()"
   ]
  },
  {
   "cell_type": "markdown",
   "metadata": {},
   "source": [
    "Next, we add a 2D convolutional layer to process input images.\n",
    "We need to pass some arguments to the Conv2D() layer function:\n",
    "\n",
    "1. The first argument is the number of outputs channels (as we have described in the model architecture).\n",
    "2. Then we need to pass the kernel_size (as we have seen a 5x5 moving window) and the strides in x and y directions (1, 1).\n",
    "3. We set the activation function as a rectified linear unit, and declare the input shape we defined before. (Input shape is only needed in the first layer)"
   ]
  },
  {
   "cell_type": "code",
   "execution_count": 4,
   "metadata": {},
   "outputs": [],
   "source": [
    "model.add(Conv2D(32, kernel_size=(5, 5), strides=(1, 1),\n",
    "                 activation='relu',\n",
    "                 input_shape=input_shape))"
   ]
  },
  {
   "cell_type": "markdown",
   "metadata": {},
   "source": [
    "Next, we add a 2D max pooling layer.\n",
    "\n",
    "In the __MaxPooling2D()__ function we need to define the size of the pooling (2, 2) and the strides in x and y directions (2, 2)."
   ]
  },
  {
   "cell_type": "code",
   "execution_count": 5,
   "metadata": {},
   "outputs": [],
   "source": [
    "model.add(MaxPooling2D(pool_size=(2, 2), strides=(2, 2)))"
   ]
  },
  {
   "cell_type": "markdown",
   "metadata": {},
   "source": [
    "Then we add an additional conv+MaxPooling layer accordingly to our model architecture."
   ]
  },
  {
   "cell_type": "code",
   "execution_count": 6,
   "metadata": {},
   "outputs": [],
   "source": [
    "model.add(Conv2D(64, (5, 5), activation='relu'))\n",
    "model.add(MaxPooling2D(pool_size=(2, 2)))"
   ]
  },
  {
   "cell_type": "markdown",
   "metadata": {},
   "source": [
    "We have just finished building our convolutional layers, now we want to connect the output of convolutional layers to fully connected layers. \n",
    "\n",
    "First of all we need to flatten the output  with __Flatten()__ function.\n",
    "Next we add two __Dense()__ (fully connected) layers declaring output and activation function.\n",
    "Notice that the output of the final layer must match the number of category we whant to distinguish.\n",
    "In our case 4 simpsons characters (bart, homer, lisa, marge)."
   ]
  },
  {
   "cell_type": "code",
   "execution_count": 7,
   "metadata": {},
   "outputs": [],
   "source": [
    "model.add(Flatten())\n",
    "model.add(Dense(1000, activation='relu'))\n",
    "model.add(Dense(4, activation='softmax'))"
   ]
  },
  {
   "cell_type": "markdown",
   "metadata": {},
   "source": [
    "Last step of our model definition is the __model.compile()__\n",
    "here we need to pass some arguments:\n",
    "1. the loss function we want to minimize (keras provides a lot of loss functions - see [here](https://keras.io/losses/))\n",
    "2. an optimizer function to optimize our learning process (keras provides also a lot of loss functions - see [here](https://keras.io/optimizers/))\n",
    "3. a metric for the model evaluation. (as before keras provides a lot of loss functions - see [here](https://keras.io/metrics/))"
   ]
  },
  {
   "cell_type": "code",
   "execution_count": 8,
   "metadata": {},
   "outputs": [],
   "source": [
    "model.compile(loss='categorical_crossentropy',\n",
    "              optimizer='adam',\n",
    "              metrics=['accuracy'])"
   ]
  },
  {
   "cell_type": "markdown",
   "metadata": {},
   "source": [
    "## Data augmentation for training\n",
    "\n",
    "Keras provide us __ImageDataGenerator()__ class that let you generate always a fresh dataflow starting form a data directory to feed in our training-evaluating process.\n",
    "\n",
    "The images taken from the train_data_dir are randomly manipulated and feeded in to the model.\n",
    "\n",
    "This step is very important to provide a better training to the model."
   ]
  },
  {
   "cell_type": "code",
   "execution_count": 9,
   "metadata": {},
   "outputs": [],
   "source": [
    "train_datagen = ImageDataGenerator(\n",
    "    rescale=1. / 255.0,\n",
    "    shear_range=0.2,\n",
    "    zoom_range=0.2,\n",
    "    width_shift_range = 0.2,\n",
    "    height_shift_range = 0.2,\n",
    "    fill_mode = 'nearest',\n",
    "    horizontal_flip=True)\n",
    "\n",
    "valid_datagen = ImageDataGenerator(rescale=1. / 255.0)"
   ]
  },
  {
   "cell_type": "markdown",
   "metadata": {},
   "source": [
    "## Pick data from dir\n",
    "\n",
    "With the flow_from_directory() method we can flow the data gathering all the model need directly from the directory structure, resizing where needed.\n"
   ]
  },
  {
   "cell_type": "code",
   "execution_count": 10,
   "metadata": {},
   "outputs": [
    {
     "name": "stdout",
     "output_type": "stream",
     "text": [
      "Found 6233 images belonging to 4 classes.\n",
      "Found 200 images belonging to 4 classes.\n"
     ]
    }
   ],
   "source": [
    "train_generator = train_datagen.flow_from_directory(\n",
    "    train_data_dir,\n",
    "    target_size=(img_width, img_height),\n",
    "    batch_size=batch_size,\n",
    "    class_mode='categorical')\n",
    "\n",
    "validation_generator = valid_datagen.flow_from_directory(\n",
    "    validation_data_dir,\n",
    "    target_size=(img_width, img_height),\n",
    "    batch_size=batch_size,\n",
    "    class_mode='categorical')"
   ]
  },
  {
   "cell_type": "markdown",
   "metadata": {},
   "source": [
    "## Feed the model\n",
    "\n",
    "With fit_generator() we start the training process. \n",
    "1. First of all we need to pass the training data as the first argument.\n",
    "2. Then we declare the steps needed for each epoch, that will be obviously the number of training samples divided by the batch size.\n",
    "3. Next the number of epochs we whant to train the model.\n",
    "4. Then the validation data aka test datataset and the validation steps."
   ]
  },
  {
   "cell_type": "code",
   "execution_count": 11,
   "metadata": {},
   "outputs": [
    {
     "name": "stdout",
     "output_type": "stream",
     "text": [
      "Epoch 1/10\n",
      "937/937 [==============================] - 221s 236ms/step - loss: 0.8644 - acc: 0.6328 - val_loss: 0.5827 - val_acc: 0.7373\n",
      "Epoch 2/10\n",
      "937/937 [==============================] - 192s 204ms/step - loss: 0.4982 - acc: 0.8040 - val_loss: 0.3598 - val_acc: 0.8866\n",
      "Epoch 3/10\n",
      "937/937 [==============================] - 196s 209ms/step - loss: 0.3302 - acc: 0.8785 - val_loss: 0.2414 - val_acc: 0.8970\n",
      "Epoch 4/10\n",
      "937/937 [==============================] - 189s 201ms/step - loss: 0.2685 - acc: 0.9016 - val_loss: 0.1897 - val_acc: 0.9306\n",
      "Epoch 5/10\n",
      "937/937 [==============================] - 191s 204ms/step - loss: 0.2195 - acc: 0.9232 - val_loss: 0.1890 - val_acc: 0.9306\n",
      "Epoch 6/10\n",
      "937/937 [==============================] - 193s 206ms/step - loss: 0.1966 - acc: 0.9317 - val_loss: 0.1512 - val_acc: 0.9618\n",
      "Epoch 7/10\n",
      "937/937 [==============================] - 196s 209ms/step - loss: 0.1810 - acc: 0.9378 - val_loss: 0.1073 - val_acc: 0.9630\n",
      "Epoch 8/10\n",
      "937/937 [==============================] - 189s 201ms/step - loss: 0.1615 - acc: 0.9440 - val_loss: 0.1022 - val_acc: 0.9722\n",
      "Epoch 9/10\n",
      "937/937 [==============================] - 185s 197ms/step - loss: 0.1489 - acc: 0.9494 - val_loss: 0.1058 - val_acc: 0.9444\n",
      "Epoch 10/10\n",
      "937/937 [==============================] - 193s 206ms/step - loss: 0.1422 - acc: 0.9526 - val_loss: 0.0858 - val_acc: 0.9653\n"
     ]
    }
   ],
   "source": [
    "history = model.fit_generator(\n",
    "    train_generator,\n",
    "    steps_per_epoch=nb_train_samples // batch_size,\n",
    "    epochs=epochs,\n",
    "    validation_data=validation_generator,\n",
    "    validation_steps=nb_validation_samples // batch_size)"
   ]
  },
  {
   "cell_type": "markdown",
   "metadata": {},
   "source": [
    "## Plot some graph\n",
    "Saving the model training process to a history variable is usefull to plot the metrics in a graph.\n",
    "In neural network training the training graph are the most usefull tool to benchmark our model and to do optimization of the architecture if needed."
   ]
  },
  {
   "cell_type": "code",
   "execution_count": 12,
   "metadata": {},
   "outputs": [
    {
     "data": {
      "image/png": "[encoded data removed]",
      "text/plain": [
       "<Figure size 432x288 with 1 Axes>"
      ]
     },
     "metadata": {},
     "output_type": "display_data"
    }
   ],
   "source": [
    "# summarize history for accuracy\n",
    "plt.plot(history.history['acc'])\n",
    "plt.plot(history.history['val_acc'])\n",
    "plt.title('model accuracy')\n",
    "plt.ylabel('accuracy')\n",
    "plt.xlabel('epoch')\n",
    "plt.legend(['train', 'test'], loc='upper left')\n",
    "plt.show()"
   ]
  },
  {
   "cell_type": "markdown",
   "metadata": {},
   "source": [
    "## Save the model\n",
    "\n",
    "After such a long wait for the learning process to come to an end dont forget to save the trained model.\n",
    "There are two way to save the model.\n",
    "1. Save the model weights (that are the result of traing) without model architecture. (this option is used mainly to switch the model to another framework\n",
    "2. Save the entire model (architecture and weights), so that it can be simply loaded up from keras.\n"
   ]
  },
  {
   "cell_type": "code",
   "execution_count": 13,
   "metadata": {},
   "outputs": [],
   "source": [
    "# Save weights for further use\n",
    "model.save_weights('simpsons_weights.h5')\n",
    "model.save('simpsons_model_trained')"
   ]
  }
 ],
 "metadata": {
  "kernelspec": {
   "display_name": "keras-gpu-notabugconf",
   "language": "python",
   "name": "keras-gpu-notabugconf"
  },
  "language_info": {
   "codemirror_mode": {
    "name": "ipython",
    "version": 3
   },
   "file_extension": ".py",
   "mimetype": "text/x-python",
   "name": "python",
   "nbconvert_exporter": "python",
   "pygments_lexer": "ipython3",
   "version": "3.6.4"
  }
 },
 "nbformat": 4,
 "nbformat_minor": 2
}
